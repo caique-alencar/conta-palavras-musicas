{
 "cells": [
  {
   "cell_type": "code",
   "execution_count": 1,
   "metadata": {},
   "outputs": [
    {
     "name": "stdout",
     "output_type": "stream",
     "text": [
      "Qual a URL da música no Vagalume? https://www.vagalume.com.br/emicida/pantera-negra.html\n",
      "\n",
      "['minha', 'pele', 'luanda', 'antessala', 'aruanda', 'tipo', \"t'challa\", 'wakanda', 'veneno', 'black', 'mamba', 'bandoleiro', 'em', 'bando', 'qué', 'o', 'comando', 'dessas', 'banda', \"'sa\", 'noite', 'cês', 'vão', 'ver', 'mais', 'sangue', 'do', 'que', 'hotel', 'ruanda', 'a', 'era', 'vem', 'selvagem', 'pantera', 'sem', 'amarra', 'mostra', 'garra', 'negra', 'eu', 'trouxe', 'a', 'noite', 'como', 'camuflagem', 'sou', 'vingador', 'vingando', 'a', 'dor', 'dos', 'esmagados', 'pela', 'engrenagem', 'cês', 'veio', 'golpe', 'eu', 'vim', 'sabotage', 'místico', 'mil', 'orixás', 'num', 'panteão', 'bravo', 'mato', 'colono', 'pono', 'fim', 'igual', 'leão', 'de', 'tsavo', 'tuchano', 'grave', 'memo', 'entrave', 'nunca', 'eu', 'agravo', 'monstro', 'crânio', 'vibranium', 'te', 'corto', 'em', '12', 'avos', 'raio', 'tipo', 'usain', 'bolt', '10', 'mil', \"volt'\", 'ancestrais', 'aplaudem', 'gravem', 'ta-nehisi', 'coates', 'memória', 'longa', 'pavio', 'curto', 'nesse', 'approach', 'e', 'pá', 'digam', 'que', 'o', 'zica', 'voltou', 'tipo', 'u', 'm', 'aka', 'com', 'a', 'garra', 'razão', 'e', 'frieza', 'mano', 'se', 'a', 'barra', 'é', 'pesada', 'a', 'certeza', 'é', 'voltar', 'tipo', 'pantera', 'negra', 'eu', 'voltei', 'tipo', 'pantera', 'negra', 'com', 'a', 'garra', 'razão', 'e', 'frieza', 'mano', 'se', 'a', 'barra', 'é', 'pesada', 'a', 'certeza', 'é', 'voltar', 'tipo', 'pantera', 'negra', 'eu', 'voltei', 'tipo', 'pantera', 'negra', 'agora', 'em', 'mi', 'laje', 'ela', 'dora', 'milaje', 'brota', 'na', 'base', 'bem', 'nicki', 'minaj', 'ora', 'é', 'miragem', 'jato', 'mirage', 'voos', 'altos', 'sr', 'spock', 'bonde', 'igual', 'lanterna', 'verde', 'tô', 'bem', 'super', 'choque', 'prum', 'novo', 'mar', 'vermelho', 'uma', 'nova', 'travessia', 'pro', 'povo', 'ter', 'reis', 'no', 'espelho', 'minha', 'caneta', 'cria', 'rua', 'wu', 'tang', 'superman', 'mais', 'tecnologia', 'simbólico', 'tipo', 'guia', 'nas', 'madrugada', 'fria', 'vim', 'esmagar', 'boy', 'que', 'debocha', 'da', 'cultura', 'black', 'um', 'kasparov', 'a', 'brindar', 'mate', 'e', 'assinar', 'o', 'cheque', 'sou', 'anti', 'sinhozinho', 'independente', 'nas', 'track', 'rato', 'respeita', 'meu', 'tempo', 'não', 'seja', 'moleque', 'se', 'vem', 'de', 'stan', 'lee', 'um', 'spike', 'lee', 'mei', 'bruce', 'lee', 'tô', 'levando', 'brasil', 'estilo', 'mauricio', 'kubrusly', 'tipo', 'solange', 'um', 'lugar', 'na', 'mesa', 'negra', 'ou', 'morena', 'na', 'dúvida', 'chame-a', 'de', 'princesa', 'autoconhecimento', 'autoajuda', 'fluxo', 'do', 'tempo', 'tipo', 'samples', 'tipo', 'buda', 'amor', 'pra', 'encher', 'mil', 'livros', 'tipo', 'gabo', 'ou', 'neruda', 'quem', 'casou', 'com', 'a', 'tempestade', 'não', 'se', 'liga', 'em', 'guarda-chuva', 'tendeu', 'com', 'a', 'garra', 'razão', 'e', 'frieza', 'mano', 'se', 'a', 'barra', 'é', 'pesada', 'a', 'certeza', 'é', 'voltar', 'tipo', 'pantera', 'negra', 'eu', 'voltei', 'tipo', 'pantera', 'negra', 'com', 'a', 'garra', 'razão', 'e', 'frieza', 'mano', 'se', 'a', 'barra', 'é', 'pesada', 'a', 'certeza', 'é', 'voltar', 'tipo', 'pantera', 'negra', 'eu', 'voltei', 'tipo', 'pantera', 'negra', 'com', 'a', 'garra', 'razão', 'e', 'frieza', 'mano', 'se', 'a', 'barra', 'é', 'pesada', 'a', 'certeza', 'é', 'voltar', 'tipo', 'pantera', 'negra', 'eu', 'voltei', 'tipo', 'pantera', 'negra', 'com', 'a', 'garra', 'razão', 'e', 'frieza', 'mano', 'se', 'a', 'barra', 'é', 'pesada', 'a', 'certeza', 'é', 'voltar', 'tipo', 'pantera', 'negra', 'eu', 'voltei', 'tipo', 'pantera', 'negra']\n",
      "\n",
      "A música tem 411 palavras.\n"
     ]
    }
   ],
   "source": [
    "# Só serve para músicas em português por causa da diferença nas tags do HTML da página\n",
    "\n",
    "import requests\n",
    "from bs4 import BeautifulSoup\n",
    "\n",
    "# Entrada da url da música desejada\n",
    "url = input(\"Qual a URL da música no Vagalume? \")\n",
    "\n",
    "# Faz a requisição com base na url digitada\n",
    "requisicao = requests.get(url)\n",
    "print()\n",
    "\n",
    "# Extrai todo o conteúdo da página\n",
    "sopa = BeautifulSoup(requisicao.content, \"html.parser\")\n",
    "\n",
    "# Procura o trecho do html onde está a letra\n",
    "letra = sopa.find(\"div\", {\"id\": \"lyrics\"})\n",
    "# Converte a variável para string para ser possível fazer a limpeza\n",
    "letra = str(letra)\n",
    "\n",
    "# Limpeza da string com a letra da música\n",
    "letra = letra.replace(\"<br/>\", \" \")\n",
    "letra = letra.replace(\"(\", \" \")\n",
    "letra = letra.replace(\")\", \" \")\n",
    "letra = letra.replace(\"!\", \" \")\n",
    "letra = letra.replace(\"?\", \" \")\n",
    "letra = letra.replace(\".\", \" \")\n",
    "letra = letra.replace(\",\", \" \")\n",
    "letra = letra.replace(\",\", \" \")\n",
    "letra = letra.replace(\"</div>\", \" \")\n",
    "letra = letra.replace('id=\"lyrics\"', \"\")\n",
    "letra = letra.replace(\"data-plugin\", \" \")\n",
    "letra = letra.replace(\"google\", \" \")\n",
    "letra = letra.replace('<div', '')\n",
    "letra = letra.replace('=', '')\n",
    "letra = letra.replace('\"', '')\n",
    "letra = letra.replace('>', '')\n",
    "letra = letra.strip()\n",
    "letra = letra.lower()\n",
    "letra = letra.split() # Separa cada palavra da letra e cria uma lista\n",
    "letra = letra[1:]\n",
    "\n",
    "contador = 0\n",
    "\n",
    "# Conta quantas palavras tem na música\n",
    "for palavra in letra:\n",
    "    contador += 1\n",
    "\n",
    "# Imprime as palavras\n",
    "print(letra)\n",
    "print()\n",
    "\n",
    "# Mostra a quantidade de palavras da música\n",
    "print(f\"A música tem {contador} palavras.\")"
   ]
  }
 ],
 "metadata": {
  "kernelspec": {
   "display_name": "Python 3",
   "language": "python",
   "name": "python3"
  },
  "language_info": {
   "codemirror_mode": {
    "name": "ipython",
    "version": 3
   },
   "file_extension": ".py",
   "mimetype": "text/x-python",
   "name": "python",
   "nbconvert_exporter": "python",
   "pygments_lexer": "ipython3",
   "version": "3.6.4"
  }
 },
 "nbformat": 4,
 "nbformat_minor": 2
}
