{
 "cells": [
  {
   "cell_type": "code",
   "execution_count": 2,
   "metadata": {},
   "outputs": [
    {
     "name": "stdout",
     "output_type": "stream",
     "text": [
      "Somadas, as músicas têm um total de 975 palavras.\n",
      "\n",
      "{'disguised': 2, 'start': 1, \"i'd\": 3, 'side': 1, 'this': 1, 'place': 1, 'set': 1, 'never': 2, 'delivered': 11, 'at': 1, 'separate': 1, 'around': 4, 'wannabes': 1, 'mother': 1, 'in': 17, 'run': 1, 'rise': 4, 'cause': 1, 'let': 1, 'could': 2, 'ways': 1, 'stay': 5, \"that's\": 2, 'the': 36, 'wanna': 7, 'see': 3, 'started': 1, 'oddities': 1, 'they': 6, 'shadow': 1, 'say': 5, \"you're\": 2, 'when': 6, 'home': 3, 'novelties': 1, 'same': 1, 'children': 1, 'love': 4, 'but': 15, 'night': 1, 'la': 1, 'staring': 1, 'mama': 5, 'history': 1, 'faultless': 1, 'trying': 2, 'out': 3, 'uphill': 1, 'son': 2, 'river': 9, 'offence': 1, 'are': 1, 'be': 13, 'for': 14, 'am': 2, 'up': 10, 'confess': 1, 'look': 3, 'dead': 1, 'prodigal': 2, 'make': 5, 'hope': 1, 'underneath': 2, 'we': 3, 'where': 2, 'boulevard': 1, 'burn': 2, 'to': 26, 'enough': 2, 'life': 4, 'praying': 1, 'ever': 2, 'hate': 2, 'stranger': 1, 'something': 2, 'you': 11, 'footsteps': 1, 'if': 2, 'rather': 1, 'legacy': 1, 'dime': 4, 'no': 4, 'valley': 1, 'and': 16, 'dear': 1, \"isn't\": 1, 'destiny': 1, 'wrong': 2, 'one': 6, 'dreams': 1, 'much': 2, \"it's\": 8, 'numbering': 1, 'about': 1, 'a': 49, 'here': 1, 'living': 8, 'all': 4, 'go': 4, 'crusaders': 1, 'afraid': 2, 'on': 16, 'with': 1, 'hide': 2, 'seen': 5, 'that': 14, 'gonna': 6, 'can': 1, 'i': 41, 'killing': 4, 'fingers': 1, \"i'm\": 15, 'biographies': 1, 'complicated': 2, 'so': 1, 'another': 2, 'wildest': 1, 'evil': 2, \"couldn't\": 4, 'brown': 1, 'done': 4, 'little': 2, 'across': 1, 'way': 4, \"haven't\": 1, \"'t'\": 1, 'sinner': 3, 'feelings': 2, 'like': 6, 'believer': 2, 'soul': 1, 'things': 3, 'find': 2, 'been': 2, 'floor': 1, 'foes': 1, 'sight': 1, 'swear': 2, 'hopes': 16, 'lot': 2, \"didn't\": 8, 'how': 4, 'victories': 1, 'high': 32, 'tied': 2, 'change': 1, 'head': 1, 'father': 1, 'had': 24, 'their': 1, 'million': 4, 'town': 1, 'not': 4, 'myself': 1, 'baptized': 9, 'small': 1, 'grow': 1, 'mine': 2, 'from': 3, 'always': 17, 'vision': 7, 'fulfill': 1, 'next': 1, 'knows': 1, 'too': 2, 'waiting': 3, 'face': 3, 'brutal': 2, 'fault': 2, 'hollywood': 1, 'wanted': 6, 'towards': 2, 'stars': 4, 'your': 4, 'manifest': 1, \"they'll\": 1, 'beautiful': 2, \"there's\": 2, 'think': 1, 'come': 6, 'everything': 7, 'gone': 1, 'boy': 1, 'worried': 1, 'was': 8, 'lights': 1, 'great': 1, 'dancing': 1, \"you'll\": 1, 'days': 5, \"ain't\": 1, 'heard': 1, 'drag': 1, 'by': 1, 'said': 5, 'impeccably': 1, 'as': 3, 'now': 6, 'rewrite': 1, 'light': 3, 'walk': 1, 'honest': 2, 'down': 4, 'everyday': 1, 'of': 14, 'feeling': 4, 'hang': 1, 'my': 23, 'shooting': 4, 'give': 2, 'hanging': 1, 'blows': 1, \"i've\": 10, 'formica': 1, 'back': 5, 'weird': 1, 'through': 1, 'got': 3, 'feel': 1, 'comes': 2, 'city': 4, 'stronger': 1, 'dance': 2, \"don't\": 5, 'prophecy': 1, 'just': 3, 'angels': 2, 'finish': 1, 'walking': 2, 'more': 3, 'safer': 2, 'best': 2, \"can't\": 1, 'own': 10, 'have': 13, 'it': 1, 'museum': 1, 'me': 3, 'were': 1, 'know': 8, 'these': 5, 'manner': 1, 'fast': 1}\n"
     ]
    }
   ],
   "source": [
    "# Só serve para músicas em inglês por causa da diferença nas tags do HTML da página\n",
    "# Arquivo tem que estar com as letras do Vagalume\n",
    "\n",
    "import csv\n",
    "import requests\n",
    "from bs4 import BeautifulSoup\n",
    "\n",
    "lista_de_palavras = []\n",
    "\n",
    "arquivo = open(\"musicas.csv\", encoding=\"ISO8859\")\n",
    "dicionario = csv.DictReader(arquivo)\n",
    "\n",
    "# Para cada linha da planilha, pega a url da música\n",
    "for linha in dicionario:\n",
    "    link = linha[\"url\"]\n",
    "\n",
    "    # Faz a requisição com base na url da planilha\n",
    "    requisicao = requests.get(link)\n",
    "\n",
    "    # Extrai todo o conteúdo da página\n",
    "    sopa = BeautifulSoup(requisicao.content, \"html.parser\")\n",
    "\n",
    "    # Procura o trecho do html onde está a letra\n",
    "    letra = sopa.find(\"div\", {\"id\": \"lyrics\"})\n",
    "    # Converte a variável para string para ser possível fazer a limpeza\n",
    "    letra = str(letra)\n",
    "\n",
    "    # Limpeza da string com a letra da música\n",
    "    letra = letra.replace(\"<br/>\", \" \")\n",
    "    letra = letra.replace(\"(\", \"\")\n",
    "    letra = letra.replace(\")\", \"\")\n",
    "    letra = letra.replace(\"!\", \"\")\n",
    "    letra = letra.replace(\"?\", \"\")\n",
    "    letra = letra.replace(\".\", \"\")\n",
    "    letra = letra.replace(\",\", \"\")\n",
    "    letra = letra.replace('<div id=\"lyrics\">', '')\n",
    "    letra = letra.replace(\"</div>\", \"\")\n",
    "    letra = letra.strip()\n",
    "    letra = letra.lower()\n",
    "    letra = letra.split() # Separa cada palavra da letra e cria uma lista\n",
    "\n",
    "    for palavra in letra:\n",
    "        lista_de_palavras.append(palavra)\n",
    "    \n",
    "contador = 0\n",
    "\n",
    "# Conta quantas palavras tem na música\n",
    "for palavra in lista_de_palavras:\n",
    "    contador += 1\n",
    "\n",
    "# Mostra a quantidade de palavras das músicas\n",
    "print(f\"Somadas, as músicas têm um total de {contador} palavras.\")\n",
    "print()\n",
    "\n",
    "# Conta as repetições de palavras na lista de palavras\n",
    "contagem_repeticoes = {palavra:lista_de_palavras.count(palavra) for palavra in set(lista_de_palavras)}\n",
    "\n",
    "print(contagem_repeticoes)\n",
    "    \n",
    "with open('palavras_repetidas_musicas.csv'.format(str(contagem_repeticoes)), 'w') as csvfile:\n",
    "    fieldnames = ['palavra', 'frequencia']\n",
    "    escritor = csv.DictWriter(csvfile, fieldnames=fieldnames)\n",
    "    escritor.writeheader()\n",
    "    for palavra, frequencia in contagem_repeticoes.items():\n",
    "        escritor.writerow({'palavra': palavra, 'frequencia': frequencia})"
   ]
  }
 ],
 "metadata": {
  "kernelspec": {
   "display_name": "Python 3",
   "language": "python",
   "name": "python3"
  },
  "language_info": {
   "codemirror_mode": {
    "name": "ipython",
    "version": 3
   },
   "file_extension": ".py",
   "mimetype": "text/x-python",
   "name": "python",
   "nbconvert_exporter": "python",
   "pygments_lexer": "ipython3",
   "version": "3.6.4"
  }
 },
 "nbformat": 4,
 "nbformat_minor": 2
}
