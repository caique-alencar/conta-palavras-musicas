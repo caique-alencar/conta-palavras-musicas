{
 "cells": [
  {
   "cell_type": "code",
   "execution_count": 4,
   "metadata": {},
   "outputs": [
    {
     "name": "stdout",
     "output_type": "stream",
     "text": [
      "Qual a URL da música no Vagalume? https://www.vagalume.com.br/good-charlotte/the-river.html\n",
      "\n",
      "['as', 'i', 'walk', 'through', 'the', 'valley', 'of', 'the', 'shadow', 'of', 'la', 'the', 'footsteps', 'that', 'were', 'next', 'to', 'me', 'have', 'gone', 'their', 'separate', 'ways', \"i've\", 'seen', 'enough', 'now', 'to', 'know', 'that', 'beautiful', 'things', \"don't\", 'always', 'stay', 'that', 'way', \"i've\", 'done', 'enough', 'now', 'to', 'know', 'this', 'beautiful', 'place', \"isn't\", 'everything', 'they', 'say', 'i', 'heard', 'that', 'evil', 'comes', 'disguised', 'like', 'a', 'city', 'of', 'angels', \"i'm\", 'walking', 'towards', 'the', 'light', 'baptized', 'in', 'the', 'river', \"i've\", 'seen', 'a', 'vision', 'of', 'my', 'life', 'and', 'i', 'wanna', 'be', 'delivered', 'in', 'the', 'city', 'was', 'a', 'sinner', \"i've\", 'done', 'a', 'lot', 'of', 'things', 'wrong', 'but', 'i', 'swear', \"i'm\", 'a', 'believer', 'like', 'the', 'prodigal', 'son', 'i', 'was', 'out', 'on', 'my', 'own', 'now', \"i'm\", 'trying', 'to', 'find', 'my', 'way', 'back', 'home', 'baptized', 'in', 'the', 'river', \"i'm\", 'delivered', \"i'm\", 'delivered', \"you're\", 'from', 'a', 'small', 'town', \"you're\", 'gonna', 'grow', 'up', 'fast', 'underneath', 'these', 'lights', 'down', 'in', 'hollywood', 'on', 'the', 'boulevard', 'the', 'dead', 'come', 'back', 'to', 'life', 'to', 'the', 'praying', 'mother', 'and', 'the', 'worried', 'father', 'let', 'your', 'children', 'go', 'if', 'they', 'come', 'back', \"they'll\", 'come', 'home', 'stronger', 'and', 'if', 'they', \"don't\", \"you'll\", 'know', 'they', 'say', 'that', 'evil', 'comes', 'disguised', 'like', 'a', 'city', 'of', 'angels', \"i'm\", 'walking', 'towards', 'the', 'light', 'baptized', 'in', 'the', 'river', \"i've\", 'seen', 'a', 'vision', 'of', 'my', 'life', 'and', 'i', 'wanna', 'be', 'delivered', 'in', 'the', 'city', 'was', 'a', 'sinner', \"i've\", 'done', 'a', 'lot', 'of', 'things', 'wrong', 'but', 'i', 'swear', \"i'm\", 'a', 'believer', 'like', 'the', 'prodigal', 'son', 'i', 'was', 'out', 'on', 'my', 'own', 'now', \"i'm\", 'trying', 'to', 'find', 'my', 'way', 'back', 'home', 'baptized', 'in', 'the', 'river', \"i'm\", 'delivered', \"i'm\", 'delivered', 'baptized', 'in', 'the', 'river', 'on', 'my', 'own', 'baptized', 'in', 'the', 'river', 'on', 'my', 'own', 'i', 'wanna', 'be', 'delivered', 'on', 'my', 'own', 'on', 'my', 'own', 'baptized', 'in', 'the', 'river', 'on', 'my', 'own', 'i', 'wanna', 'be', 'delivered', 'baptized', 'in', 'the', 'river', 'on', 'my', 'own', 'i', 'wanna', 'be', 'delivered', 'baptized', 'in', 'the', 'river', 'on', 'my', 'own', 'i', 'wanna', 'be', 'delivered', 'i', 'confess', \"i'm\", 'a', 'sinner', \"i've\", 'seen', 'a', 'vision', 'of', 'my', 'life', 'and', 'i', 'wanna', 'be', 'delivered']\n",
      "\n",
      "A música tem 331 palavras.\n"
     ]
    }
   ],
   "source": [
    "# Só serve para músicas em inglês por causa da diferença nas tags do HTML da página\n",
    "\n",
    "import requests\n",
    "from bs4 import BeautifulSoup\n",
    "\n",
    "# Entrada da url da música desejada\n",
    "url = input(\"Qual a URL da música no Vagalume? \")\n",
    "\n",
    "# Faz a requisição com base na url digitada\n",
    "requisicao = requests.get(url)\n",
    "print()\n",
    "\n",
    "# Extrai todo o conteúdo da página\n",
    "sopa = BeautifulSoup(requisicao.content, \"html.parser\")\n",
    "\n",
    "# Procura o trecho do html onde está a letra\n",
    "letra = sopa.find(\"div\", {\"id\": \"lyrics\"})\n",
    "# Converte a variável para string para ser possível fazer a limpeza\n",
    "letra = str(letra)\n",
    "\n",
    "# Limpeza da string com a letra da música\n",
    "letra = letra.replace(\"<br/>\", \" \")\n",
    "letra = letra.replace(\"(\", \"\")\n",
    "letra = letra.replace(\")\", \"\")\n",
    "letra = letra.replace(\"!\", \"\")\n",
    "letra = letra.replace(\"?\", \"\")\n",
    "letra = letra.replace(\".\", \"\")\n",
    "letra = letra.replace(\",\", \"\")\n",
    "letra = letra.replace('<div id=\"lyrics\">', '')\n",
    "letra = letra.replace(\"</div>\", \"\")\n",
    "letra = letra.strip()\n",
    "letra = letra.lower()\n",
    "letra = letra.split() # Separa cada palavra da letra e cria uma lista\n",
    "\n",
    "contador = 0\n",
    "\n",
    "# Conta quantas palavras tem na música\n",
    "for palavra in letra:\n",
    "    contador += 1\n",
    "\n",
    "# Imprime as palavras\n",
    "print(letra)\n",
    "print()\n",
    "\n",
    "# Mostra a quantidade de palavras da música\n",
    "print(f\"A música tem {contador} palavras.\")"
   ]
  }
 ],
 "metadata": {
  "kernelspec": {
   "display_name": "Python 3",
   "language": "python",
   "name": "python3"
  },
  "language_info": {
   "codemirror_mode": {
    "name": "ipython",
    "version": 3
   },
   "file_extension": ".py",
   "mimetype": "text/x-python",
   "name": "python",
   "nbconvert_exporter": "python",
   "pygments_lexer": "ipython3",
   "version": "3.6.4"
  }
 },
 "nbformat": 4,
 "nbformat_minor": 2
}
